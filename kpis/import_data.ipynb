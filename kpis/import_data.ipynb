{
 "cells": [
  {
   "cell_type": "markdown",
   "metadata": {},
   "source": [
    "Sacamos la esperanza de vida a los 65 por municipio como indicador de longevidad. Luego analizaremos si la diferencia en la esperanza de vida entre municipios correlacionado con algún factor.\n",
    "\n",
    "*Fuente*: https://www.ine.es/dynt3/inebase/index.htm?padre=1153&capsel=1153"
   ]
  },
  {
   "cell_type": "code",
   "execution_count": 2,
   "metadata": {},
   "outputs": [],
   "source": [
    "import pandas as pd\n",
    "file = 'esperanza_vida_65a.csv'"
   ]
  },
  {
   "cell_type": "markdown",
   "metadata": {},
   "source": [
    "Sacamos el codine:"
   ]
  },
  {
   "cell_type": "code",
   "execution_count": 5,
   "metadata": {},
   "outputs": [],
   "source": [
    "edv_65 = pd.read_csv(f'input/esperanza_vida_65a.csv',sep=\";\", decimal=\",\")\n",
    "edv_65['codine'] = edv_65.Municipios.str.split(' ',expand=True)[0]\n",
    "edv_65['municipio'] = edv_65.Municipios.str.split(' ',expand=True)[1]"
   ]
  },
  {
   "cell_type": "markdown",
   "metadata": {},
   "source": [
    "Simplificamos el literal del sexo:"
   ]
  },
  {
   "cell_type": "code",
   "execution_count": 6,
   "metadata": {},
   "outputs": [],
   "source": [
    "sexo = {'Ambos sexos':'tot', 'Hombres':'H', 'Mujeres':'M'}\n",
    "edv_65.Sexo = edv_65.Sexo.map(sexo)"
   ]
  },
  {
   "cell_type": "code",
   "execution_count": 7,
   "metadata": {},
   "outputs": [
    {
     "data": {
      "text/html": [
       "<div>\n",
       "<style scoped>\n",
       "    .dataframe tbody tr th:only-of-type {\n",
       "        vertical-align: middle;\n",
       "    }\n",
       "\n",
       "    .dataframe tbody tr th {\n",
       "        vertical-align: top;\n",
       "    }\n",
       "\n",
       "    .dataframe thead th {\n",
       "        text-align: right;\n",
       "    }\n",
       "</style>\n",
       "<table border=\"1\" class=\"dataframe\">\n",
       "  <thead>\n",
       "    <tr style=\"text-align: right;\">\n",
       "      <th></th>\n",
       "      <th>tot_2021</th>\n",
       "      <th>tot_2020</th>\n",
       "      <th>tot_2019</th>\n",
       "      <th>tot_2018</th>\n",
       "      <th>tot_2017</th>\n",
       "      <th>tot_2016</th>\n",
       "      <th>tot_2015</th>\n",
       "      <th>tot_2014</th>\n",
       "      <th>H_2021</th>\n",
       "      <th>H_2020</th>\n",
       "      <th>...</th>\n",
       "      <th>H_2015</th>\n",
       "      <th>H_2014</th>\n",
       "      <th>M_2021</th>\n",
       "      <th>M_2020</th>\n",
       "      <th>M_2019</th>\n",
       "      <th>M_2018</th>\n",
       "      <th>M_2017</th>\n",
       "      <th>M_2016</th>\n",
       "      <th>M_2015</th>\n",
       "      <th>M_2014</th>\n",
       "    </tr>\n",
       "    <tr>\n",
       "      <th>codine</th>\n",
       "      <th></th>\n",
       "      <th></th>\n",
       "      <th></th>\n",
       "      <th></th>\n",
       "      <th></th>\n",
       "      <th></th>\n",
       "      <th></th>\n",
       "      <th></th>\n",
       "      <th></th>\n",
       "      <th></th>\n",
       "      <th></th>\n",
       "      <th></th>\n",
       "      <th></th>\n",
       "      <th></th>\n",
       "      <th></th>\n",
       "      <th></th>\n",
       "      <th></th>\n",
       "      <th></th>\n",
       "      <th></th>\n",
       "      <th></th>\n",
       "      <th></th>\n",
       "    </tr>\n",
       "  </thead>\n",
       "  <tbody>\n",
       "    <tr>\n",
       "      <th>01059</th>\n",
       "      <td>21.91</td>\n",
       "      <td>22.07</td>\n",
       "      <td>22.09</td>\n",
       "      <td>22.13</td>\n",
       "      <td>21.95</td>\n",
       "      <td>21.68</td>\n",
       "      <td>21.83</td>\n",
       "      <td>21.70</td>\n",
       "      <td>19.55</td>\n",
       "      <td>19.77</td>\n",
       "      <td>...</td>\n",
       "      <td>19.74</td>\n",
       "      <td>19.60</td>\n",
       "      <td>24.10</td>\n",
       "      <td>24.20</td>\n",
       "      <td>24.11</td>\n",
       "      <td>24.10</td>\n",
       "      <td>23.98</td>\n",
       "      <td>23.68</td>\n",
       "      <td>23.71</td>\n",
       "      <td>23.59</td>\n",
       "    </tr>\n",
       "    <tr>\n",
       "      <th>02003</th>\n",
       "      <td>20.43</td>\n",
       "      <td>20.40</td>\n",
       "      <td>20.32</td>\n",
       "      <td>21.14</td>\n",
       "      <td>21.00</td>\n",
       "      <td>20.91</td>\n",
       "      <td>20.72</td>\n",
       "      <td>20.72</td>\n",
       "      <td>18.25</td>\n",
       "      <td>18.24</td>\n",
       "      <td>...</td>\n",
       "      <td>18.66</td>\n",
       "      <td>18.79</td>\n",
       "      <td>22.38</td>\n",
       "      <td>22.33</td>\n",
       "      <td>22.21</td>\n",
       "      <td>22.92</td>\n",
       "      <td>22.77</td>\n",
       "      <td>22.70</td>\n",
       "      <td>22.51</td>\n",
       "      <td>22.37</td>\n",
       "    </tr>\n",
       "  </tbody>\n",
       "</table>\n",
       "<p>2 rows × 24 columns</p>\n",
       "</div>"
      ],
      "text/plain": [
       "        tot_2021  tot_2020  tot_2019  tot_2018  tot_2017  tot_2016  tot_2015  \\\n",
       "codine                                                                         \n",
       "01059      21.91     22.07     22.09     22.13     21.95     21.68     21.83   \n",
       "02003      20.43     20.40     20.32     21.14     21.00     20.91     20.72   \n",
       "\n",
       "        tot_2014  H_2021  H_2020  ...  H_2015  H_2014  M_2021  M_2020  M_2019  \\\n",
       "codine                            ...                                           \n",
       "01059      21.70   19.55   19.77  ...   19.74   19.60   24.10   24.20   24.11   \n",
       "02003      20.72   18.25   18.24  ...   18.66   18.79   22.38   22.33   22.21   \n",
       "\n",
       "        M_2018  M_2017  M_2016  M_2015  M_2014  \n",
       "codine                                          \n",
       "01059    24.10   23.98   23.68   23.71   23.59  \n",
       "02003    22.92   22.77   22.70   22.51   22.37  \n",
       "\n",
       "[2 rows x 24 columns]"
      ]
     },
     "execution_count": 7,
     "metadata": {},
     "output_type": "execute_result"
    }
   ],
   "source": [
    "pv_edv_65 = edv_65.pivot(index='codine', columns=['Periodo','Sexo'], values='Total')\n",
    "pv_edv_65.columns = [c[1]+'_'+str(c[0]) for c in pv_edv_65.columns]\n",
    "pv_edv_65.head(2)"
   ]
  },
  {
   "cell_type": "code",
   "execution_count": 9,
   "metadata": {},
   "outputs": [],
   "source": [
    "pv_edv_65.to_csv('output/pv_edv_65.csv',index=True)"
   ]
  },
  {
   "cell_type": "code",
   "execution_count": null,
   "metadata": {},
   "outputs": [],
   "source": []
  }
 ],
 "metadata": {
  "kernelspec": {
   "display_name": ".venv",
   "language": "python",
   "name": "python3"
  },
  "language_info": {
   "codemirror_mode": {
    "name": "ipython",
    "version": 3
   },
   "file_extension": ".py",
   "mimetype": "text/x-python",
   "name": "python",
   "nbconvert_exporter": "python",
   "pygments_lexer": "ipython3",
   "version": "3.11.6"
  }
 },
 "nbformat": 4,
 "nbformat_minor": 2
}
