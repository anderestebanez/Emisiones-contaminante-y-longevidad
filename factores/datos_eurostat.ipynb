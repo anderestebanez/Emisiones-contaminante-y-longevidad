{
 "cells": [
  {
   "cell_type": "code",
   "execution_count": 2,
   "metadata": {},
   "outputs": [],
   "source": [
    "import pandas as pd\n",
    "import shutil"
   ]
  },
  {
   "cell_type": "markdown",
   "metadata": {},
   "source": [
    "Documento: https://ec.europa.eu/eurostat/documents/3859598/5910701/KS-RA-09-008-EN.PDF.pdf/7ebe5561-5f2c-4458-aa9f-5bc48822f422?t=1414781566000"
   ]
  },
  {
   "cell_type": "markdown",
   "metadata": {},
   "source": [
    "Importamos los datos en _csv_, **estat_urb_cecfi_en**:"
   ]
  },
  {
   "cell_type": "code",
   "execution_count": 3,
   "metadata": {},
   "outputs": [],
   "source": [
    "df_csv = pd.read_csv('./input/estat_urb_cecfi_en.csv', encoding='utf8', on_bad_lines='warn')\\\n",
    "           .rename(columns={'TIME_PERIOD':'year','OBS_VALUE':'value','OBS_FLAG':'flag'})[['freq','indic_ur','cities','year','value','flag']]"
   ]
  },
  {
   "cell_type": "code",
   "execution_count": 36,
   "metadata": {},
   "outputs": [
    {
     "data": {
      "text/html": [
       "<div>\n",
       "<style scoped>\n",
       "    .dataframe tbody tr th:only-of-type {\n",
       "        vertical-align: middle;\n",
       "    }\n",
       "\n",
       "    .dataframe tbody tr th {\n",
       "        vertical-align: top;\n",
       "    }\n",
       "\n",
       "    .dataframe thead th {\n",
       "        text-align: right;\n",
       "    }\n",
       "</style>\n",
       "<table border=\"1\" class=\"dataframe\">\n",
       "  <thead>\n",
       "    <tr style=\"text-align: right;\">\n",
       "      <th></th>\n",
       "      <th>freq</th>\n",
       "      <th>indic_ur</th>\n",
       "      <th>cities</th>\n",
       "      <th>year</th>\n",
       "      <th>value</th>\n",
       "      <th>flag</th>\n",
       "    </tr>\n",
       "  </thead>\n",
       "  <tbody>\n",
       "    <tr>\n",
       "      <th>0</th>\n",
       "      <td>A</td>\n",
       "      <td>EC2021V</td>\n",
       "      <td>AT</td>\n",
       "      <td>2008</td>\n",
       "      <td>300745</td>\n",
       "      <td>NaN</td>\n",
       "    </tr>\n",
       "    <tr>\n",
       "      <th>1</th>\n",
       "      <td>A</td>\n",
       "      <td>EC2021V</td>\n",
       "      <td>AT001C</td>\n",
       "      <td>1996</td>\n",
       "      <td>87071</td>\n",
       "      <td>NaN</td>\n",
       "    </tr>\n",
       "    <tr>\n",
       "      <th>2</th>\n",
       "      <td>A</td>\n",
       "      <td>EC2021V</td>\n",
       "      <td>AT001C</td>\n",
       "      <td>2001</td>\n",
       "      <td>90484</td>\n",
       "      <td>NaN</td>\n",
       "    </tr>\n",
       "    <tr>\n",
       "      <th>3</th>\n",
       "      <td>A</td>\n",
       "      <td>EC2021V</td>\n",
       "      <td>AT001C</td>\n",
       "      <td>2008</td>\n",
       "      <td>70660</td>\n",
       "      <td>d</td>\n",
       "    </tr>\n",
       "    <tr>\n",
       "      <th>4</th>\n",
       "      <td>A</td>\n",
       "      <td>EC2021V</td>\n",
       "      <td>AT002C</td>\n",
       "      <td>2008</td>\n",
       "      <td>10647</td>\n",
       "      <td>d</td>\n",
       "    </tr>\n",
       "  </tbody>\n",
       "</table>\n",
       "</div>"
      ],
      "text/plain": [
       "  freq indic_ur  cities  year   value flag\n",
       "0    A  EC2021V      AT  2008  300745  NaN\n",
       "1    A  EC2021V  AT001C  1996   87071  NaN\n",
       "2    A  EC2021V  AT001C  2001   90484  NaN\n",
       "3    A  EC2021V  AT001C  2008   70660    d\n",
       "4    A  EC2021V  AT002C  2008   10647    d"
      ]
     },
     "execution_count": 36,
     "metadata": {},
     "output_type": "execute_result"
    }
   ],
   "source": [
    "df_csv.head()"
   ]
  },
  {
   "cell_type": "markdown",
   "metadata": {},
   "source": [
    "Importamos los datos en _tsv_:"
   ]
  },
  {
   "cell_type": "code",
   "execution_count": 37,
   "metadata": {},
   "outputs": [],
   "source": [
    "ls_files = ['estat_urb_cenv','estat_urb_ceduc','estat_urb_cfermor','estat_urb_cpop1','estat_urb_cpopcb','estat_urb_cpopstr','estat_urb_ctour','estat_urb_ctran']\n",
    "\n",
    "df_tsv = pd.concat([pd.read_csv(f'./input/{i}.tsv', sep='[,\\t]', engine='python')\\\n",
    "                  .rename(columns={'cities\\TIME_PERIOD':'cities'})\\\n",
    "                  .melt(id_vars=['freq','indic_ur','cities'], var_name='year', value_name='value')\n",
    "                for i in ls_files])\n",
    "v = df_tsv.value.replace({':':''},regex=True).str.split(\" \")\n",
    "df_tsv['value'] = v.str[0]\n",
    "df_tsv['flag'] = v.str[1]\n",
    "df_tsv = df_tsv[df_tsv.value != '']\n",
    "df_tsv['value'] = df_tsv.value.astype(float)\n",
    "#df = df.pivot(index=['year','cities','freq'], columns='indic_ur', values='value').reset_index()\n"
   ]
  },
  {
   "cell_type": "code",
   "execution_count": 38,
   "metadata": {},
   "outputs": [
    {
     "data": {
      "text/html": [
       "<div>\n",
       "<style scoped>\n",
       "    .dataframe tbody tr th:only-of-type {\n",
       "        vertical-align: middle;\n",
       "    }\n",
       "\n",
       "    .dataframe tbody tr th {\n",
       "        vertical-align: top;\n",
       "    }\n",
       "\n",
       "    .dataframe thead th {\n",
       "        text-align: right;\n",
       "    }\n",
       "</style>\n",
       "<table border=\"1\" class=\"dataframe\">\n",
       "  <thead>\n",
       "    <tr style=\"text-align: right;\">\n",
       "      <th></th>\n",
       "      <th>freq</th>\n",
       "      <th>indic_ur</th>\n",
       "      <th>cities</th>\n",
       "      <th>year</th>\n",
       "      <th>value</th>\n",
       "      <th>flag</th>\n",
       "    </tr>\n",
       "  </thead>\n",
       "  <tbody>\n",
       "    <tr>\n",
       "      <th>1773</th>\n",
       "      <td>A</td>\n",
       "      <td>EN2002V</td>\n",
       "      <td>AT003C</td>\n",
       "      <td>1989</td>\n",
       "      <td>6.0</td>\n",
       "      <td></td>\n",
       "    </tr>\n",
       "    <tr>\n",
       "      <th>1774</th>\n",
       "      <td>A</td>\n",
       "      <td>EN2002V</td>\n",
       "      <td>AT004C</td>\n",
       "      <td>1989</td>\n",
       "      <td>93.0</td>\n",
       "      <td></td>\n",
       "    </tr>\n",
       "    <tr>\n",
       "      <th>1814</th>\n",
       "      <td>A</td>\n",
       "      <td>EN2002V</td>\n",
       "      <td>DE001C</td>\n",
       "      <td>1989</td>\n",
       "      <td>31.5</td>\n",
       "      <td></td>\n",
       "    </tr>\n",
       "    <tr>\n",
       "      <th>1815</th>\n",
       "      <td>A</td>\n",
       "      <td>EN2002V</td>\n",
       "      <td>DE002C</td>\n",
       "      <td>1989</td>\n",
       "      <td>30.0</td>\n",
       "      <td></td>\n",
       "    </tr>\n",
       "    <tr>\n",
       "      <th>1817</th>\n",
       "      <td>A</td>\n",
       "      <td>EN2002V</td>\n",
       "      <td>DE004C</td>\n",
       "      <td>1989</td>\n",
       "      <td>27.0</td>\n",
       "      <td></td>\n",
       "    </tr>\n",
       "  </tbody>\n",
       "</table>\n",
       "</div>"
      ],
      "text/plain": [
       "     freq indic_ur  cities   year  value flag\n",
       "1773    A  EN2002V  AT003C  1989     6.0     \n",
       "1774    A  EN2002V  AT004C  1989    93.0     \n",
       "1814    A  EN2002V  DE001C  1989    31.5     \n",
       "1815    A  EN2002V  DE002C  1989    30.0     \n",
       "1817    A  EN2002V  DE004C  1989    27.0     "
      ]
     },
     "execution_count": 38,
     "metadata": {},
     "output_type": "execute_result"
    }
   ],
   "source": [
    "df_tsv.head()"
   ]
  },
  {
   "cell_type": "markdown",
   "metadata": {},
   "source": [
    "Cruzamos el CODINE"
   ]
  },
  {
   "cell_type": "code",
   "execution_count": 39,
   "metadata": {},
   "outputs": [],
   "source": [
    "rel_eurostat_ine = pd.read_excel('./input/rel_eurostat_ine.ods', 'rel_Eurostat_ine', engine='odf')\n",
    "df = pd.concat([df_csv, df_tsv]).join(rel_eurostat_ine.set_index('CODE'), on='cities', how='inner')"
   ]
  },
  {
   "cell_type": "code",
   "execution_count": 42,
   "metadata": {},
   "outputs": [
    {
     "name": "stdout",
     "output_type": "stream",
     "text": [
      "The DF shape: (119384, 8)\n",
      "The number of cities is: 99\n"
     ]
    },
    {
     "data": {
      "text/html": [
       "<div>\n",
       "<style scoped>\n",
       "    .dataframe tbody tr th:only-of-type {\n",
       "        vertical-align: middle;\n",
       "    }\n",
       "\n",
       "    .dataframe tbody tr th {\n",
       "        vertical-align: top;\n",
       "    }\n",
       "\n",
       "    .dataframe thead th {\n",
       "        text-align: right;\n",
       "    }\n",
       "</style>\n",
       "<table border=\"1\" class=\"dataframe\">\n",
       "  <thead>\n",
       "    <tr style=\"text-align: right;\">\n",
       "      <th></th>\n",
       "      <th>freq</th>\n",
       "      <th>indic_ur</th>\n",
       "      <th>cities</th>\n",
       "      <th>year</th>\n",
       "      <th>value</th>\n",
       "      <th>flag</th>\n",
       "      <th>NAME</th>\n",
       "      <th>CODINE</th>\n",
       "    </tr>\n",
       "  </thead>\n",
       "  <tbody>\n",
       "    <tr>\n",
       "      <th>22291</th>\n",
       "      <td>A</td>\n",
       "      <td>EN1002V</td>\n",
       "      <td>ES011C</td>\n",
       "      <td>1991</td>\n",
       "      <td>5.88</td>\n",
       "      <td></td>\n",
       "      <td>Santiago de Compostela</td>\n",
       "      <td>15078</td>\n",
       "    </tr>\n",
       "    <tr>\n",
       "      <th>22293</th>\n",
       "      <td>A</td>\n",
       "      <td>EN1002V</td>\n",
       "      <td>ES013C</td>\n",
       "      <td>1991</td>\n",
       "      <td>4.84</td>\n",
       "      <td></td>\n",
       "      <td>Oviedo</td>\n",
       "      <td>33044</td>\n",
       "    </tr>\n",
       "    <tr>\n",
       "      <th>22294</th>\n",
       "      <td>A</td>\n",
       "      <td>EN1002V</td>\n",
       "      <td>ES015C</td>\n",
       "      <td>1991</td>\n",
       "      <td>4.87</td>\n",
       "      <td></td>\n",
       "      <td>Santander</td>\n",
       "      <td>39075</td>\n",
       "    </tr>\n",
       "    <tr>\n",
       "      <th>22711</th>\n",
       "      <td>A</td>\n",
       "      <td>EN1003V</td>\n",
       "      <td>ES011C</td>\n",
       "      <td>1991</td>\n",
       "      <td>19.90</td>\n",
       "      <td></td>\n",
       "      <td>Santiago de Compostela</td>\n",
       "      <td>15078</td>\n",
       "    </tr>\n",
       "    <tr>\n",
       "      <th>22713</th>\n",
       "      <td>A</td>\n",
       "      <td>EN1003V</td>\n",
       "      <td>ES013C</td>\n",
       "      <td>1991</td>\n",
       "      <td>20.30</td>\n",
       "      <td></td>\n",
       "      <td>Oviedo</td>\n",
       "      <td>33044</td>\n",
       "    </tr>\n",
       "  </tbody>\n",
       "</table>\n",
       "</div>"
      ],
      "text/plain": [
       "      freq indic_ur  cities   year  value flag                    NAME  CODINE\n",
       "22291    A  EN1002V  ES011C  1991    5.88       Santiago de Compostela   15078\n",
       "22293    A  EN1002V  ES013C  1991    4.84                       Oviedo   33044\n",
       "22294    A  EN1002V  ES015C  1991    4.87                    Santander   39075\n",
       "22711    A  EN1003V  ES011C  1991   19.90       Santiago de Compostela   15078\n",
       "22713    A  EN1003V  ES013C  1991   20.30                       Oviedo   33044"
      ]
     },
     "execution_count": 42,
     "metadata": {},
     "output_type": "execute_result"
    }
   ],
   "source": [
    "print(f\"The DF shape: {df.shape}\")\n",
    "print(f\"The number of cities is: {len(df.cities.unique())}\")\n",
    "df.head()"
   ]
  },
  {
   "cell_type": "markdown",
   "metadata": {},
   "source": [
    "Unimos los DataFrames y los exportamos a _csv_:"
   ]
  },
  {
   "cell_type": "code",
   "execution_count": 43,
   "metadata": {},
   "outputs": [],
   "source": [
    "df.to_csv('./output/data_eurostat.csv', index=False)"
   ]
  },
  {
   "cell_type": "code",
   "execution_count": null,
   "metadata": {},
   "outputs": [],
   "source": []
  },
  {
   "cell_type": "code",
   "execution_count": null,
   "metadata": {},
   "outputs": [],
   "source": []
  },
  {
   "cell_type": "code",
   "execution_count": 44,
   "metadata": {},
   "outputs": [],
   "source": [
    "def prueba(x,y):\n",
    "    return x + y"
   ]
  },
  {
   "cell_type": "code",
   "execution_count": 46,
   "metadata": {},
   "outputs": [
    {
     "ename": "TypeError",
     "evalue": "prueba() got an unexpected keyword argument 'z'",
     "output_type": "error",
     "traceback": [
      "\u001b[0;31m---------------------------------------------------------------------------\u001b[0m",
      "\u001b[0;31mTypeError\u001b[0m                                 Traceback (most recent call last)",
      "Cell \u001b[0;32mIn[46], line 1\u001b[0m\n\u001b[0;32m----> 1\u001b[0m \u001b[43mprueba\u001b[49m\u001b[43m(\u001b[49m\u001b[43mx\u001b[49m\u001b[38;5;241;43m=\u001b[39;49m\u001b[38;5;241;43m1\u001b[39;49m\u001b[43m,\u001b[49m\u001b[43my\u001b[49m\u001b[38;5;241;43m=\u001b[39;49m\u001b[38;5;241;43m2\u001b[39;49m\u001b[43m,\u001b[49m\u001b[43mz\u001b[49m\u001b[38;5;241;43m=\u001b[39;49m\u001b[38;5;241;43m3\u001b[39;49m\u001b[43m)\u001b[49m\n",
      "\u001b[0;31mTypeError\u001b[0m: prueba() got an unexpected keyword argument 'z'"
     ]
    }
   ],
   "source": [
    "prueba(x=1,y=2,z=3)"
   ]
  }
 ],
 "metadata": {
  "kernelspec": {
   "display_name": ".venv",
   "language": "python",
   "name": "python3"
  },
  "language_info": {
   "codemirror_mode": {
    "name": "ipython",
    "version": 3
   },
   "file_extension": ".py",
   "mimetype": "text/x-python",
   "name": "python",
   "nbconvert_exporter": "python",
   "pygments_lexer": "ipython3",
   "version": "3.11.6"
  }
 },
 "nbformat": 4,
 "nbformat_minor": 2
}
